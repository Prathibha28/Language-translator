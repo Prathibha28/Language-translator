{
 "cells": [
  {
   "cell_type": "code",
   "execution_count": 1,
   "id": "4df900fe",
   "metadata": {},
   "outputs": [],
   "source": [
    "import speech_recognition as sr\n",
    "from deep_translator import GoogleTranslator\n",
    "from gtts import gTTS\n",
    "from playsound import playsound\n",
    "import os"
   ]
  },
  {
   "cell_type": "code",
   "execution_count": null,
   "id": "081c8ae9",
   "metadata": {},
   "outputs": [
    {
     "name": "stdout",
     "output_type": "stream",
     "text": [
      "english\n"
     ]
    }
   ],
   "source": [
    "r = sr.Recognizer()\n",
    "languages = ['hindi','german','tamil','telugu','english']\n",
    "\n",
    "source_lang=print(\"english\")\n",
    "target_lang = input(\"select any language: hindi, german, tamil,telugu, english: \")\n",
    "while True:\n",
    "\n",
    "    translator=GoogleTranslator(source='english', target=target_lang)\n",
    "    with sr.Microphone() as source:\n",
    "        print(\"Please talk\")\n",
    "        # read the audio data from the default microphone\n",
    "        audio_data = r.listen(source)\n",
    "        print(\"Recognizing...\")\n",
    "        try:\n",
    "            # convert speech to text\n",
    "            text = r.recognize_google(audio_data)\n",
    "            print(f\"{text}\")\n",
    "            if(text==\"stop\"):\n",
    "                break\n",
    "        except sr.UnknownValueError:\n",
    "            print(\"could not understand\")\n",
    "        except sr.RequestError:\n",
    "            print(\"Not able to request result from google\")\n",
    "        translated_text = translator.translate(text)\n",
    "        print(translated_text)\n",
    "        voice = gTTS(translated_text)\n",
    "        voice.save(\"speech.mp3\")\n",
    "        playsound(\"speech.mp3\")\n",
    "        os.remove(\"speech.mp3\")"
   ]
  },
  {
   "cell_type": "code",
   "execution_count": null,
   "id": "e49332cf",
   "metadata": {},
   "outputs": [],
   "source": []
  },
  {
   "cell_type": "code",
   "execution_count": null,
   "id": "7d2e0c6a",
   "metadata": {},
   "outputs": [],
   "source": []
  }
 ],
 "metadata": {
  "kernelspec": {
   "display_name": "Python 3 (ipykernel)",
   "language": "python",
   "name": "python3"
  },
  "language_info": {
   "codemirror_mode": {
    "name": "ipython",
    "version": 3
   },
   "file_extension": ".py",
   "mimetype": "text/x-python",
   "name": "python",
   "nbconvert_exporter": "python",
   "pygments_lexer": "ipython3",
   "version": "3.9.7"
  }
 },
 "nbformat": 4,
 "nbformat_minor": 5
}
